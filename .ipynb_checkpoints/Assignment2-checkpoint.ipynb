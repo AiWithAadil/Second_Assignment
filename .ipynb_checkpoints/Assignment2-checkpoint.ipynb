{
 "cells": [
  {
   "cell_type": "markdown",
   "metadata": {},
   "source": [
    "Scenario 1: Grocery Shopping List. "
   ]
  },
  {
   "cell_type": "code",
   "execution_count": null,
   "metadata": {},
   "outputs": [],
   "source": [
    "items = input(\"Enter your items, please use ',' when your first item is done: \").split(',')\n",
    "\n",
    "yes_or_no = input(\"Do you want to delete some items? Enter 'yes' or 'no': \")\n",
    "\n",
    " if yes_or_no == \"no\":\n",
    "    print(f\"This is your items list: {items}\")\n",
    "  \n",
    " elif yes_or_no == \"yes\":\n",
    "    delete_items = input(\"Enter the items you want to remove, please use ',' after each item: \").split(',')\n",
    "\n",
    "    for item in delete_items:\n",
    "        if item in items:\n",
    "            items.remove(item)\n",
    "            print(f\"This is your updated items list: {items}\")\n",
    "        else:\n",
    "            print(f\"{item} not found in the items list.\")\n",
    "\n",
    "else:\n",
    "    print(\"Invalid input. Bye bye.\")\n",
    "\n",
    "    \n",
    "    "
   ]
  },
  {
   "cell_type": "code",
   "execution_count": null,
   "metadata": {},
   "outputs": [],
   "source": [
    "Scenario 2: Student Grades.  "
   ]
  },
  {
   "cell_type": "code",
   "execution_count": null,
   "metadata": {},
   "outputs": [],
   "source": []
  },
  {
   "cell_type": "markdown",
   "metadata": {},
   "source": [
    "Scenario 3: Word Frequency Counter. "
   ]
  },
  {
   "cell_type": "code",
   "execution_count": null,
   "metadata": {},
   "outputs": [],
   "source": []
  },
  {
   "cell_type": "markdown",
   "metadata": {},
   "source": [
    "Scenario 3: Password Strength Checker. "
   ]
  },
  {
   "cell_type": "code",
   "execution_count": null,
   "metadata": {},
   "outputs": [],
   "source": []
  },
  {
   "cell_type": "markdown",
   "metadata": {},
   "source": [
    "Scenario 04: Voting System (Annual Employee Recognition Awards)."
   ]
  },
  {
   "cell_type": "code",
   "execution_count": null,
   "metadata": {},
   "outputs": [],
   "source": []
  }
 ],
 "metadata": {
  "kernelspec": {
   "display_name": "Python 3 (ipykernel)",
   "language": "python",
   "name": "python3"
  },
  "language_info": {
   "codemirror_mode": {
    "name": "ipython",
    "version": 3
   },
   "file_extension": ".py",
   "mimetype": "text/x-python",
   "name": "python",
   "nbconvert_exporter": "python",
   "pygments_lexer": "ipython3",
   "version": "3.11.5"
  }
 },
 "nbformat": 4,
 "nbformat_minor": 2
}
