{
 "cells": [
  {
   "cell_type": "markdown",
   "metadata": {},
   "source": [
    "Scenario 1: Grocery Shopping List \n",
    "\n",
    "You are creating a program to manage a grocery shopping list. Users should be able to add items, \n",
    "remove items, and display the current list."
   ]
  },
  {
   "cell_type": "code",
   "execution_count": 6,
   "metadata": {},
   "outputs": [
    {
     "name": "stdout",
     "output_type": "stream",
     "text": [
      "This is your remove items list: ['APPLE', 'BANANA']\n",
      "['APPLE', 'BANANA']\n",
      "This is your final grocery list['APPLE', 'BANANA']\n"
     ]
    }
   ],
   "source": [
    "grocery_items = input(\"Enter your items, please use ',' after each item: \").split(',')\n",
    "\n",
    "remove = input(\"Do you want to remove some items? Enter 'yes' otherwise 'no': \")\n",
    "\n",
    "if remove == \"no\":\n",
    "    print(f\"This is your grocery items list: {grocery_items}\")\n",
    "  \n",
    "\n",
    "elif remove == \"yes\":\n",
    "    remove_items = input(\"Enter the items you want to remove, please use ',' after each item: \").split(',')\n",
    "\n",
    "    for item in remove_items:\n",
    "        if item in grocery_items:\n",
    "            grocery_items.remove(item)\n",
    "            print(f\"This is your remove items list: {grocery_items}\")\n",
    "        else:\n",
    "            print(f\"{item} not found in the items list.\")\n",
    "\n",
    "else:\n",
    "    print(\"Invalid input. Bye bye.\")            \n",
    "\n",
    "add = input(\"if do you eant to add items? Enter 'add' otherwise 'no': \") \n",
    "\n",
    "if add == 'add':\n",
    "    add_items = input(\"Enter your items: \")\n",
    "    grocery_items.append(add_items)\n",
    "    print(f\"This is your add items list{grocery_items}\")\n",
    "\n",
    "elif add == 'no':\n",
    "    print(grocery_items)\n",
    "\n",
    "else:\n",
    "    print(\"Invalid input. Bye bye.\")     \n",
    "\n",
    "\n",
    "\n",
    "print(f\"This is your final grocery list{grocery_items}\")\n",
    "    \n",
    "    "
   ]
  },
  {
   "cell_type": "markdown",
   "metadata": {},
   "source": [
    "Scenario 2: Student Grades\n",
    "  \n",
    "You are managing student grades using a dictionary. You need to calculate the average grade.take \n",
    "atleast 5 Students grades & then calculate the average."
   ]
  },
  {
   "cell_type": "code",
   "execution_count": 2,
   "metadata": {},
   "outputs": [
    {
     "name": "stdout",
     "output_type": "stream",
     "text": [
      "Student Grades: {'aadil': {'maths': 45.0, 'economics': 66.0, 'accounting': 43.0, 'P_O_C': 67.0, 'statistics': 43.0, 'percentage': 52.8}, 'saad': {'maths': 34.0, 'economics': 56.0, 'accounting': 78.0, 'P_O_C': 32.0, 'statistics': 34.0, 'percentage': 46.8}, 'maaz': {'maths': 12.0, 'economics': 34.0, 'accounting': 56.0, 'P_O_C': 78.0, 'statistics': 99.0, 'percentage': 55.8}}\n",
      "Average Percentage is: 51.79999999999999\n"
     ]
    }
   ],
   "source": [
    "student_grades = {}\n",
    "total_students = int(input(\"Enter student frequency: \"))\n",
    "total_percentage = 0\n",
    "\n",
    "for student in range(total_students):\n",
    "    name_of_student = input(\"Enter your name here: \")\n",
    "\n",
    "    subjects = ['maths', 'economics', 'accounting', 'P_O_C', 'statistics']\n",
    "    \n",
    "    student_grades[name_of_student] = {}\n",
    "    total_numbers = 0 \n",
    "\n",
    "    for subject in subjects:\n",
    "        numbers = float(input(f\"Enter your {subject} numbers: \"))\n",
    "        student_grades[name_of_student][subject] = numbers\n",
    "        total_numbers += numbers\n",
    "    \n",
    "    percentage = total_numbers / len(subjects)\n",
    "    student_grades[name_of_student]['percentage'] = percentage\n",
    "    total_percentage += percentage\n",
    "\n",
    "average_percentage = total_percentage / total_students\n",
    "\n",
    "print(f\"Student Grades: {student_grades}\")\n",
    "print(f\"Average Percentage is: {average_percentage}\")\n",
    "\n",
    "\n"
   ]
  },
  {
   "cell_type": "markdown",
   "metadata": {},
   "source": [
    "Scenario 3: Word Frequency Counter \n",
    "\n",
    "You are given a list of words, and you need to count the frequency of each word. \n",
    "word_list = [\"apple\", \"banana\", \"apple\", \"orange\", \"banana\", \"grape\", \"apple\"]"
   ]
  },
  {
   "cell_type": "code",
   "execution_count": 7,
   "metadata": {},
   "outputs": [
    {
     "name": "stdout",
     "output_type": "stream",
     "text": [
      "Word Frequencies:\n",
      "apple: 3 times\n",
      "banana: 2 times\n",
      "orange: 1 times\n",
      "grape: 1 times\n"
     ]
    }
   ],
   "source": [
    "word_list = [\"apple\", \"banana\", \"apple\", \"orange\", \"banana\", \"grape\", \"apple\"]\n",
    "\n",
    "word_frequency = {}\n",
    "\n",
    "for word in word_list:\n",
    "    if word in word_frequency:\n",
    "        word_frequency[word] += 1\n",
    "    else:\n",
    "        word_frequency[word] = 1\n",
    "\n",
    "print(\"Word Frequencies:\")\n",
    "for word, frequency in word_frequency.items():\n",
    "    print(f\"{word}: {frequency} times\")\n"
   ]
  },
  {
   "cell_type": "markdown",
   "metadata": {},
   "source": [
    "Scenario 3: Password Strength Checker \n",
    "\n",
    "You are creating a program to check the strength of passwords based on certain criteria. \n",
    "• Password should be at least 8 characters long. \n",
    "• Password should contain at least one digit. \n",
    "• Password should contain at least one letter."
   ]
  },
  {
   "cell_type": "code",
   "execution_count": 4,
   "metadata": {},
   "outputs": [
    {
     "name": "stdout",
     "output_type": "stream",
     "text": [
      "smaadil006\n"
     ]
    }
   ],
   "source": [
    "password_input = input(\"Enter your password: \")\n",
    "letter = any(alphabet.isalpha() for alphabet in password_input)\n",
    "number = any(digit.isdigit() for digit in password_input)\n",
    "\n",
    "if len(password_input) >= 8 and letter and number:\n",
    "    print(password_input)\n",
    "else:\n",
    "    print(\"Invalid password. Please ensure the following:\")\n",
    "    if len(password_input) < 8:\n",
    "        print(\"• Password should be at least 8 characters long.\")\n",
    "    if not number:\n",
    "        print(\"• Password should contain at least one digit.\")\n",
    "    if not letter:\n",
    "        print(\"• Password should contain at least one letter.\")\n",
    "\n",
    "\n"
   ]
  },
  {
   "cell_type": "markdown",
   "metadata": {},
   "source": [
    "Scenario 04: Voting System (Annual Employee Recognition Awards)\n",
    " \n",
    "You are developing a simple voting system for a contest. Users can vote for their Favorite option, and \n",
    "you need to count the votes. \n",
    "In a corporate setting, the HR department is organizing the Annual Employee Recognition Awards, \n",
    "where employees get the opportunity to vote for their colleagues nominated in different categories. \n",
    "The HR team has decided to use a simple voting system to collect and tally votes for the nominees in \n",
    "various award categories. The script provided will be utilized for this purpose. \n",
    "Candidates: The nominees for different award categories, such as \"Employee of the Year,\" \"Team \n",
    "Player of the Year,\" and \"Innovation Award,\" are represented by the list of candidates: 'Candidate A,' \n",
    "'Candidate B,' and 'Candidate C.' \n",
    "Voting Process: Employees are requested to input the number of voters participating in the awards. \n",
    "Each voter is presented with a list of nominees, and they can vote for their preferred candidate by \n",
    "entering the corresponding number. \n",
    "Validation: The script ensures that the entered vote is within the valid range of candidates. If an \n",
    "employee enters an invalid vote, the system prompts them to choose a valid candidate. \n",
    "Recording Votes: The script records each vote for the selected candidate and prints a confirmation \n",
    "message indicating that the vote has been recorded."
   ]
  },
  {
   "cell_type": "code",
   "execution_count": 5,
   "metadata": {},
   "outputs": [
    {
     "name": "stdout",
     "output_type": "stream",
     "text": [
      "Invalid vote. Please choose a valid employee.\n",
      "All VOTES HAS BEEN RECORDED\n",
      "Final vote counts for 'Employees of the Year':\n",
      "AADIL: 4 votes\n",
      "SAAD: 1 votes\n",
      "Final vote counts for 'Team of the year':\n",
      "BASIT: 5 votes\n",
      "BACIL: 0 votes\n",
      "Final vote counts for 'Innovation award':\n",
      "NAAZ: 4 votes\n",
      "AADIL is the Winner of 'Employees of the Year AWARD' they got 4 votes\n",
      "BASIT is the Winner of 'Employees of the Year AWARD' they got 5 votes\n",
      "NAAZ is the Winner of 'Employees of the Year AWARD' they got 4 votes\n"
     ]
    }
   ],
   "source": [
    "\n",
    "                            #LOGIC (1)\n",
    "\n",
    "Employees_of_the_Year = {}\n",
    "Team_player_of_the_Year = {}\n",
    "Innovation_award = {}\n",
    "\n",
    "num_of_nominees = int(input(\"Enter how many nominees participate in Annual Employee Recognition Awards:\"))\n",
    "\n",
    "for nominee in range(num_of_nominees):\n",
    "    categories = input('''\n",
    "           If you participate in 'Employee of the Year', press 'A': \n",
    "           If you participate in 'Team Player of the Year', press 'B': \n",
    "           If you participate in 'Innovation Award', press 'C': \n",
    "           ''')\n",
    "    \n",
    "    if categories == 'A':\n",
    "        names_of_A = input(\"Enter your name here: \")\n",
    "        categories_A = \"Employees of the Year\"\n",
    "        Employees_of_the_Year[names_of_A] = {'category': categories_A, 'votes': 0}\n",
    "\n",
    "    elif categories == 'B':\n",
    "        names_of_B = input(\"Enter your name here: \")\n",
    "        categories_B = \"Team player of the Year\"\n",
    "        Team_player_of_the_Year[names_of_B] = {'category': categories_B, 'votes': 0}\n",
    "\n",
    "    elif categories == 'C':\n",
    "        names_of_C = input(\"Enter your name here: \")\n",
    "        categories_C = \"Innovation award\"\n",
    "        Innovation_award[names_of_C] = {'category': categories_C, 'votes': 0}\n",
    "\n",
    "    else:\n",
    "        print(\"We don't have this category\")\n",
    "\n",
    "                                 #LOGIC (2)\n",
    "\n",
    "voters = int(input(\"Enter voters frequency: \"))\n",
    "\n",
    "for vote in range(voters):\n",
    "    voting_for_A = input(f\"{Employees_of_the_Year.keys()} Name the employee from the given names whom you want to vote: \")\n",
    "    \n",
    "    if voting_for_A in Employees_of_the_Year:\n",
    "        Employees_of_the_Year[voting_for_A]['votes'] += 1\n",
    "        vote_recorded = True\n",
    "    else:\n",
    "        print(\"Invalid vote. Please choose a valid employee.\")\n",
    "\n",
    "    voting_for_B = input(f\"{Team_player_of_the_Year.keys()} Name the employee from the given names whom you want to vote: \")\n",
    "\n",
    "    if voting_for_B in Team_player_of_the_Year:\n",
    "        Team_player_of_the_Year[voting_for_B]['votes'] += 1\n",
    "        vote_recorded = True\n",
    "    else:\n",
    "        print(\"Invalid vote. Please choose a valid employee.\")\n",
    "\n",
    "    voting_for_C = input(f\"{Innovation_award.keys()} Name the employee from the given names whom you want to vote: \")\n",
    "\n",
    "    if voting_for_C in Innovation_award:\n",
    "        Innovation_award[voting_for_C]['votes'] += 1\n",
    "        vote_recorded = True\n",
    "    else:\n",
    "        print(\"Invalid vote. Please choose a valid employee.\")\n",
    "\n",
    "if vote_recorded:\n",
    "    print(\"All VOTES HAS BEEN RECORDED\")\n",
    "\n",
    "                                    #LOGIC (3)\n",
    "\n",
    "employee_award = -1\n",
    "name_employee = None\n",
    "player_award = -1\n",
    "name_player = None\n",
    "innovation_award = -1\n",
    "name_innovation = None\n",
    "\n",
    "print(\"Final vote counts for 'Employees of the Year':\")\n",
    "for employee, award in Employees_of_the_Year.items():\n",
    "    print(f\"{employee}: {award['votes']} votes\")\n",
    "    votes_count_A = award['votes']\n",
    "    if votes_count_A > employee_award:\n",
    "        employee_award = votes_count_A\n",
    "        name_employee = employee\n",
    "\n",
    "print(\"Final vote counts for 'Team of the year':\")\n",
    "for player, Award in Team_player_of_the_Year.items():\n",
    "    print(f\"{player}: {Award['votes']} votes\")\n",
    "    votes_count_B = Award['votes']\n",
    "    if votes_count_B > player_award:\n",
    "        player_award = votes_count_B\n",
    "        name_player = player\n",
    "\n",
    "print(\"Final vote counts for 'Innovation award':\")\n",
    "for innovation, AwArd in Innovation_award.items():\n",
    "    print(f\"{innovation}: {AwArd['votes']} votes\")\n",
    "    votes_count_C = AwArd['votes']\n",
    "    if votes_count_C > innovation_award:\n",
    "        innovation_award = votes_count_C\n",
    "        name_innovation = innovation\n",
    "\n",
    "if name_employee and name_player and name_innovation is not None:\n",
    " print(f\"{name_employee} is the Winner of 'Employees of the Year AWARD' they got {employee_award} votes\")\n",
    " print(f\"{name_player} is the Winner of 'Team of the year' they got {player_award} votes\")\n",
    " print(f\"{name_innovation} is the Winner of 'Innovation award' they got {innovation_award} votes\")\n",
    "else:\n",
    "    print(\"\\nNo votes recorded.\")\n"
   ]
  }
 ],
 "metadata": {
  "kernelspec": {
   "display_name": "Python 3 (ipykernel)",
   "language": "python",
   "name": "python3"
  },
  "language_info": {
   "codemirror_mode": {
    "name": "ipython",
    "version": 3
   },
   "file_extension": ".py",
   "mimetype": "text/x-python",
   "name": "python",
   "nbconvert_exporter": "python",
   "pygments_lexer": "ipython3",
   "version": "3.11.5"
  }
 },
 "nbformat": 4,
 "nbformat_minor": 2
}
