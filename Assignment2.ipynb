{
 "cells": [
  {
   "cell_type": "markdown",
   "metadata": {},
   "source": [
    "Scenario 1: Grocery Shopping List \n",
    "\n",
    "You are creating a program to manage a grocery shopping list. Users should be able to add items, \n",
    "remove items, and display the current list."
   ]
  },
  {
   "cell_type": "code",
   "execution_count": null,
   "metadata": {},
   "outputs": [],
   "source": [
    "grocery_items = input(\"Enter your items, please use ',' after each item: \").split(',')\n",
    "\n",
    "yes_no_add = input(\"Do you want to delete some items? Enter 'yes' otherwise 'no' and add some thing Enter 'add': \")\n",
    "\n",
    "if yes_no_add == \"no\":\n",
    "    print(f\"This is your grocery items list: {grocery_items}\")\n",
    "  \n",
    "\n",
    "elif yes_no_add == \"yes\":\n",
    "    delete_items = input(\"Enter the items you want to remove, please use ',' after each item: \").split(',')\n",
    "\n",
    "    for item in delete_items:\n",
    "        if item in grocery_items:\n",
    "            grocery_items.remove(item)\n",
    "            print(f\"This is your updated items list: {grocery_items}\")\n",
    "        else:\n",
    "            print(f\"{item} not found in the items list.\")\n",
    "elif  yes_no_add == \"add\":\n",
    "      add_items = input(\"Enter items please use ',' after each item: \").split(',')\n",
    "      grocery_items.append(add_items) \n",
    "      print(f\"This is your mote items list {grocery_items}\")  \n",
    "     \n",
    "else:\n",
    "    print(\"Invalid input. Bye bye.\")\n",
    "\n",
    "print(grocery_items)\n",
    "\n",
    "    \n",
    "    "
   ]
  },
  {
   "cell_type": "markdown",
   "metadata": {},
   "source": [
    "Scenario 2: Student Grades\n",
    "  \n",
    "You are managing student grades using a dictionary. You need to calculate the average grade.take \n",
    "atleast 5 Students grades & then calculate the average."
   ]
  },
  {
   "cell_type": "code",
   "execution_count": null,
   "metadata": {},
   "outputs": [],
   "source": []
  },
  {
   "cell_type": "code",
   "execution_count": null,
   "metadata": {},
   "outputs": [],
   "source": []
  },
  {
   "cell_type": "code",
   "execution_count": 31,
   "metadata": {},
   "outputs": [
    {
     "name": "stdout",
     "output_type": "stream",
     "text": [
      "INVALED\n",
      "b has the AVERAGE grade: B\n",
      "INVALED\n",
      "INVALED\n",
      "INVALED\n"
     ]
    }
   ],
   "source": [
    "student_grades = {}\n",
    "\n",
    "student_frequency = int(input(\"Enter student frequency: \"))\n",
    "\n",
    "for student in range(student_frequency):\n",
    "    name = input(\"Enter your name: \")\n",
    "    grade = input(\"Enter you grade in Capital\")\n",
    "    student_grades.update({name:grade})\n",
    "    \n",
    "average_grade = \"B\"  \n",
    "average_student = \"\"\n",
    "\n",
    "for name, grade in student_grades.items():\n",
    "    if grade == average_grade:\n",
    "           average_grade = grade\n",
    "           average_student = name\n",
    "           print(f\"{average_student} has the AVERAGE grade: {average_grade}\")\n",
    "\n"
   ]
  },
  {
   "cell_type": "markdown",
   "metadata": {},
   "source": [
    "Scenario 3: Word Frequency Counter \n",
    "\n",
    "You are given a list of words, and you need to count the frequency of each word. \n",
    "word_list = [\"apple\", \"banana\", \"apple\", \"orange\", \"banana\", \"grape\", \"apple\"]"
   ]
  },
  {
   "cell_type": "code",
   "execution_count": 13,
   "metadata": {},
   "outputs": [
    {
     "name": "stdout",
     "output_type": "stream",
     "text": [
      "Apple: 3\n",
      "Banana: 2\n",
      "Orange: 1\n",
      "Grape: 1\n"
     ]
    }
   ],
   "source": [
    "word_list = [\"apple\", \"banana\", \"apple\", \"orange\", \"banana\", \"grape\", \"apple\"]\n",
    "\n",
    "A = word_list.count(\"apple\")\n",
    "print(f\"Apple: {A}\")\n",
    "\n",
    "B = word_list.count(\"banana\")\n",
    "print(f\"Banana: {B}\")\n",
    "\n",
    "O = word_list.count(\"orange\")\n",
    "print(f\"Orange: {O}\")\n",
    "\n",
    "G = word_list.count(\"grape\")\n",
    "print(f\"Grape: {G}\")"
   ]
  },
  {
   "cell_type": "markdown",
   "metadata": {},
   "source": [
    "Scenario 3: Password Strength Checker \n",
    "\n",
    "You are creating a program to check the strength of passwords based on certain criteria. \n",
    "• Password should be at least 8 characters long. \n",
    "• Password should contain at least one digit. \n",
    "• Password should contain at least one letter."
   ]
  },
  {
   "cell_type": "code",
   "execution_count": 36,
   "metadata": {},
   "outputs": [
    {
     "name": "stdout",
     "output_type": "stream",
     "text": [
      "Invalid password. Please ensure the following:\n",
      "• Password should contain at least one letter.\n"
     ]
    }
   ],
   "source": [
    "password_input = input(\"Enter your password: \")\n",
    "letter = any(alphabet.isalpha() for alphabet in password_input)\n",
    "number = any(digit.isdigit() for digit in password_input)\n",
    "\n",
    "if len(password_input) >= 8 and letter and number:\n",
    "    print(password_input)\n",
    "else:\n",
    "    print(\"Invalid password. Please ensure the following:\")\n",
    "    if len(password_input) < 8:\n",
    "        print(\"• Password should be at least 8 characters long.\")\n",
    "    if not number:\n",
    "        print(\"• Password should contain at least one digit.\")\n",
    "    if not letter:\n",
    "        print(\"• Password should contain at least one letter.\")"
   ]
  },
  {
   "cell_type": "markdown",
   "metadata": {},
   "source": [
    "Scenario 04: Voting System (Annual Employee Recognition Awards)\n",
    " \n",
    "You are developing a simple voting system for a contest. Users can vote for their Favorite option, and \n",
    "you need to count the votes. \n",
    "In a corporate setting, the HR department is organizing the Annual Employee Recognition Awards, \n",
    "where employees get the opportunity to vote for their colleagues nominated in different categories. \n",
    "The HR team has decided to use a simple voting system to collect and tally votes for the nominees in \n",
    "various award categories. The script provided will be utilized for this purpose. \n",
    "Candidates: The nominees for different award categories, such as \"Employee of the Year,\" \"Team \n",
    "Player of the Year,\" and \"Innovation Award,\" are represented by the list of candidates: 'Candidate A,' \n",
    "'Candidate B,' and 'Candidate C.' \n",
    "Voting Process: Employees are requested to input the number of voters participating in the awards. \n",
    "Each voter is presented with a list of nominees, and they can vote for their preferred candidate by \n",
    "entering the corresponding number. \n",
    "Validation: The script ensures that the entered vote is within the valid range of candidates. If an \n",
    "employee enters an invalid vote, the system prompts them to choose a valid candidate. \n",
    "Recording Votes: The script records each vote for the selected candidate and prints a confirmation \n",
    "message indicating that the vote has been recorded."
   ]
  },
  {
   "cell_type": "code",
   "execution_count": 19,
   "metadata": {},
   "outputs": [
    {
     "name": "stdout",
     "output_type": "stream",
     "text": [
      "Smaadil007\n"
     ]
    }
   ],
   "source": []
  }
 ],
 "metadata": {
  "kernelspec": {
   "display_name": "Python 3 (ipykernel)",
   "language": "python",
   "name": "python3"
  },
  "language_info": {
   "codemirror_mode": {
    "name": "ipython",
    "version": 3
   },
   "file_extension": ".py",
   "mimetype": "text/x-python",
   "name": "python",
   "nbconvert_exporter": "python",
   "pygments_lexer": "ipython3",
   "version": "3.11.5"
  }
 },
 "nbformat": 4,
 "nbformat_minor": 2
}
